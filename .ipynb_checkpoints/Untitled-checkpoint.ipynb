{
 "cells": [
  {
   "cell_type": "markdown",
   "id": "a422b632",
   "metadata": {},
   "source": [
    "# Case Study: Introduction to Brian's Problem\n",
    "Brian ran an A/B test with three different groups: A, B, and C. He has provided us with a CSV file of his results named clicks.csv. It has the following columns:\n",
    "\n",
    "    user_id: a unique id for each visitor to the FarmBurg site\n",
    "    group: either 'A', 'B', or 'C' depending on which group the visitor was assigned to\n",
    "    is_purchase: either 'Yes' if the visitor made a purchase or 'No' if they did not.\n",
    "\n",
    "## Task 1: Import the data and neccesary libraries \n",
    "- Inspect the data using the .head() method. "
   ]
  },
  {
   "cell_type": "code",
   "execution_count": 2,
   "id": "769871f2",
   "metadata": {},
   "outputs": [],
   "source": [
    "import pandas as pd\n",
    "import numpy as np"
   ]
  },
  {
   "cell_type": "code",
   "execution_count": 5,
   "id": "7035ae51",
   "metadata": {},
   "outputs": [
    {
     "name": "stdout",
     "output_type": "stream",
     "text": [
      "    user_id group is_purchase\n",
      "0  8e27bf9a     A          No\n",
      "1  eb89e6f0     A          No\n",
      "2  7119106a     A          No\n",
      "3  e53781ff     A          No\n",
      "4  02d48cf1     A         Yes\n"
     ]
    }
   ],
   "source": [
    "abdata = pd.read_csv('clicks.csv')\n",
    "\n",
    "print(abdata.head())"
   ]
  },
  {
   "cell_type": "code",
   "execution_count": 7,
   "id": "568ca076",
   "metadata": {},
   "outputs": [
    {
     "name": "stdout",
     "output_type": "stream",
     "text": [
      "1666 1666 1666\n"
     ]
    }
   ],
   "source": [
    "# I want to also ensure all samples are the same size.\n",
    "A_len = len(abdata[abdata['group'] == 'A'])\n",
    "B_len = len(abdata[abdata['group'] == 'B'])\n",
    "C_len = len(abdata[abdata['group'] == 'C'])\n",
    "\n",
    "print(A_len,B_len,C_len)"
   ]
  },
  {
   "cell_type": "markdown",
   "id": "3ab225c0",
   "metadata": {},
   "source": [
    "## Task 2: Perform a Chi Square Test\n",
    "\n",
    "We have two categorical variables: `group` and `is_purchase`. We are interested in whether visitors are more likely to make a purchase if they are in any one group compared to the others. Because we want to know if there is an association between two categorical variables, we’ll start by using a Chi-Square test to address our question.\n",
    "\n",
    "**Question 1: After creating a contingency table, which group appears to have the highest number of purchases?**\n",
    "\n",
    "**Question 2: Save the p-value from the chi square test to a variable named pval and print the result. Using a significance threshold of 0.05, is there a significant difference in the purchase rate for groups A, B, and C?**"
   ]
  },
  {
   "cell_type": "code",
   "execution_count": 8,
   "id": "52b6f540",
   "metadata": {},
   "outputs": [],
   "source": [
    "from scipy.stats import chi2_contingency"
   ]
  },
  {
   "cell_type": "code",
   "execution_count": 9,
   "id": "3fc090a3",
   "metadata": {},
   "outputs": [
    {
     "name": "stdout",
     "output_type": "stream",
     "text": [
      "is_purchase    No  Yes\n",
      "group                 \n",
      "A            1350  316\n",
      "B            1483  183\n",
      "C            1583   83\n"
     ]
    }
   ],
   "source": [
    "Xtab = pd.crosstab(abdata.group, abdata.is_purchase)\n",
    "\n",
    "print(Xtab)"
   ]
  },
  {
   "cell_type": "code",
   "execution_count": 22,
   "id": "55b6aa05",
   "metadata": {},
   "outputs": [
    {
     "data": {
      "text/plain": [
       "\"Answer 1: Group 'A' has the highest number of purchases at 316;followed by Group 'B' at 183;  lastly Group 'C' has 83 purchases.\""
      ]
     },
     "execution_count": 22,
     "metadata": {},
     "output_type": "execute_result"
    }
   ],
   "source": [
    "\"\"\"Answer 1: Group 'A' has the highest number of purchases at 316;\\\n",
    "followed by Group 'B' at 183; \\\n",
    " lastly Group 'C' has 83 purchases.\"\"\""
   ]
  },
  {
   "cell_type": "code",
   "execution_count": 30,
   "id": "85d45a77",
   "metadata": {},
   "outputs": [
    {
     "name": "stdout",
     "output_type": "stream",
     "text": [
      "Significant p-value =  2.4126213546684264e-35\n"
     ]
    }
   ],
   "source": [
    "# Now to test for significance using a Chi Squared test of independence.\n",
    "# The null hypothesis states there is no significant difference between the group and their\\\n",
    "# purchasing behaviour. The alternative hypothesis states there is a significant difference.\n",
    "\n",
    "chi2, pval, dof, expected = chi2_contingency(Xtab)\n",
    "\n",
    "print(\"Significant\" if pval <= 0.05 else \"Not Significant\", \"p-value = \",pval)"
   ]
  },
  {
   "cell_type": "code",
   "execution_count": 32,
   "id": "4452b5ae",
   "metadata": {},
   "outputs": [
    {
     "data": {
      "text/plain": [
       "'Answer 2: The p-value of 2.4126213546684264e-35 is extremely small, thus I can conclude that there is a significant difference between the purchase rate for each group. '"
      ]
     },
     "execution_count": 32,
     "metadata": {},
     "output_type": "execute_result"
    }
   ],
   "source": [
    "\"\"\"Answer 2: The p-value of 2.4126213546684264e-35 is extremely small, thus I can \\\n",
    "conclude that there is a significant difference between the purchase rate for each group. \"\"\""
   ]
  },
  {
   "cell_type": "markdown",
   "id": "ca9b319a",
   "metadata": {},
   "source": [
    "## Task 3\n",
    "After concluding the chi-square test, we decide to present the findings back to Brian.\n",
    "\n",
    "Us: Hey Brian! What was that test you were running anyway?\n",
    "\n",
    "Brian: We are trying to get users to purchase a small FarmBurg upgrade package. It’s called a microtransaction. We’re not sure how much to charge for it, so we tested three different price points: \\\\\\$0.99 (group 'A'), \\\\\\$1.99 (group 'B'), and \\\\\\$4.99 (group 'C'). It looks like significantly more people bought the upgrade package for \\\\\\$0.99, so I guess that’s what we’ll charge.\n",
    "\n",
    "Us: Oh no! We should have asked you this before we did that Chi-Square test. That wasn’t the right test at all. It’s true that more people wanted to purchase the upgrade at \\\\\\$0.99; you probably expected that. What we really want to know is whether each price point allows us to make enough money that we can exceed some target goal. Brian, how much do you think it cost to build this feature?\n",
    "\n",
    "Brian: Hmm. I guess that we need to generate a minimum of \\\\\\$1000 in revenue per week in order to justify this project.\n",
    "\n",
    "Us: We have some work to do!\n",
    "\n",
    "In order to justify this feature, you will need to calculate the necessary purchase rate for each price point. Start by calculating the number of visitors to the site this week.\n",
    "\n",
    "It turns out that Brian ran his original test over the course of a week, so the number of visitors in abdata is equal to the number of visitors in a typical week. \n",
    "\n",
    "Calculate the number of visitors in the data and save the value in a variable named `num_visits`. Make sure to print the value.\n"
   ]
  },
  {
   "cell_type": "code",
   "execution_count": 34,
   "id": "79bb5b21",
   "metadata": {},
   "outputs": [
    {
     "name": "stdout",
     "output_type": "stream",
     "text": [
      "4998\n"
     ]
    }
   ],
   "source": [
    "num_visits = len(abdata)\n",
    "print(num_visits)"
   ]
  },
  {
   "cell_type": "markdown",
   "id": "5ce0d588",
   "metadata": {},
   "source": [
    "Now that we know how many visitors we generally get each week (`num_visits`), we need to calculate the number of visitors who would need to purchase the upgrade package at each price point (\\\\\\$0.99, \\\\\\$1.99, \\\\\\$4.99) in order to generate Brian’s minimum revenue target of \\\\\\$1,000 per week.\n",
    "\n",
    "- calculate the number of sales that would be needed to reach \\\\\\$1,000 dollars of revenue at each price point. Save the result and print it out."
   ]
  },
  {
   "cell_type": "code",
   "execution_count": 36,
   "id": "8b2fd7c9",
   "metadata": {},
   "outputs": [
    {
     "name": "stdout",
     "output_type": "stream",
     "text": [
      "1011.0\n"
     ]
    }
   ],
   "source": [
    "target = 1000\n",
    "num_sales_needed_099 = np.ceil(target/0.99)\n",
    "num_sales_needed_199 = np.ceil(target/1.99)\n",
    "num_sales_needed_499 = np.ceil(target/4.99)\n",
    "\n",
    "print(num_sales_needed_099)"
   ]
  },
  {
   "cell_type": "markdown",
   "id": "9cc9ca16",
   "metadata": {},
   "source": [
    "- Now that we know how many sales we need at each price point, calculate the proportion of weekly visitors who would need to make a purchase in order to meet that goal. Save the result and print it out.\n"
   ]
  },
  {
   "cell_type": "code",
   "execution_count": 41,
   "id": "fb2474bf",
   "metadata": {},
   "outputs": [
    {
     "name": "stdout",
     "output_type": "stream",
     "text": [
      "The proportion of weekly visitors to break even if Brian prices the product at $0.99 is 0.20228091236494597\n"
     ]
    }
   ],
   "source": [
    "p_sales_needed_099 = num_sales_needed_099/num_visits\n",
    "p_sales_needed_199 = num_sales_needed_199/num_visits\n",
    "p_sales_needed_499 = num_sales_needed_499/num_visits\n",
    "\n",
    "print(f\"The proportion of weekly visitors to break even if Brian prices the product at $0.99 is {p_sales_needed_099}\")"
   ]
  },
  {
   "cell_type": "markdown",
   "id": "f41ef5fc",
   "metadata": {},
   "source": [
    "### Now let’s return to Brian’s question. \n",
    "\n",
    "To start, we want to know if the percent of Group A (the \\\\\\$0.99 price point) that purchased an upgrade package is significantly greater than p_sales_needed_099 (the percent of visitors who need to buy an upgrade package at \\\\\\$0.99 in order to make our minimum revenue target of \\\\\\$1,000).\n",
    "\n",
    "To answer this question, we want to focus on just the visitors in group A. Then, we want to compare the number of purchases in that group to p_sales_needed_099.\n",
    "\n",
    "Start by saving the variables required for the hypothesis test you can use to test based on the scenario."
   ]
  },
  {
   "cell_type": "code",
   "execution_count": 43,
   "id": "63712756",
   "metadata": {},
   "outputs": [],
   "source": [
    "from scipy.stats import binomtest"
   ]
  },
  {
   "cell_type": "code",
   "execution_count": 44,
   "id": "08701c86",
   "metadata": {},
   "outputs": [],
   "source": [
    "# To use the binomtest function I need 4 parameters: x = observed purchase rate, \n",
    "# n = sample size, p = target purchase rate, alternative = 'greater' \n",
    "\n",
    "samp_size_099 = Xtab.loc['A']['No'] + Xtab.loc['A']['Yes']\n",
    "sales_099 = Xtab.loc['A']['Yes']\n",
    "\n",
    "samp_size_199 = Xtab.loc['B']['No'] + Xtab.loc['B']['Yes']\n",
    "sales_199 = Xtab.loc['B']['Yes']\n",
    "\n",
    "samp_size_499 = Xtab.loc['C']['No'] + Xtab.loc['C']['Yes']\n",
    "sales_499 = Xtab.loc['C']['Yes']"
   ]
  },
  {
   "cell_type": "code",
   "execution_count": 53,
   "id": "3eb7a9d5",
   "metadata": {},
   "outputs": [
    {
     "data": {
      "text/plain": [
       "BinomTestResult(k=316, n=1666, alternative='greater', statistic=0.18967587034813926, pvalue=0.9058887362654593)"
      ]
     },
     "execution_count": 53,
     "metadata": {},
     "output_type": "execute_result"
    }
   ],
   "source": [
    "pvalueA = binomtest(sales_099,samp_size_099,p_sales_needed_099,'greater')\n",
    "pvalueA"
   ]
  },
  {
   "cell_type": "code",
   "execution_count": 60,
   "id": "816c00ee",
   "metadata": {},
   "outputs": [
    {
     "data": {
      "text/plain": [
       "'Answer: When the binomial test uses \"greater\" as the alternative parameter,the null hypothesis (H0) would assume that the observed success rate is less than or equal to the target success rate. A pvalue of .91 means there is not significant evidence to reject this hypothesis, thus the observed purchase rate is not significantly greater than the required sales rate which indicates it may not be profitable to sell the new feature at a $0.99 price point.'"
      ]
     },
     "execution_count": 60,
     "metadata": {},
     "output_type": "execute_result"
    }
   ],
   "source": [
    "\"\"\"Answer: When the binomial test uses \"greater\" as the alternative parameter,\\\n",
    "the null hypothesis (H0) would assume that the observed success rate is \\\n",
    "less than or equal to the target success rate. A pvalue of .91 means there is not \\\n",
    "significant evidence to reject this hypothesis, thus the observed purchase rate is \\\n",
    "not significantly greater than the required sales rate which indicates it may not \\\n",
    "be profitable to sell the new feature at a $0.99 price point.\"\"\""
   ]
  },
  {
   "cell_type": "markdown",
   "id": "e2e798b6",
   "metadata": {},
   "source": [
    "- For Group B (\\\\\\$1.99 price point), perform a binomial test to see if the observed purchase rate is significantly greater than `p_sales_needed_199`.\n",
    "\n",
    "Save the results to pvalueB, and print its value.\n"
   ]
  },
  {
   "cell_type": "code",
   "execution_count": 62,
   "id": "6f0cc262",
   "metadata": {},
   "outputs": [
    {
     "data": {
      "text/plain": [
       "BinomTestResult(k=183, n=1666, alternative='greater', statistic=0.10984393757503001, pvalue=0.11441815431122217)"
      ]
     },
     "execution_count": 62,
     "metadata": {},
     "output_type": "execute_result"
    }
   ],
   "source": [
    "pvalueB = binomtest(sales_199,samp_size_199,p_sales_needed_199,'greater')\n",
    "pvalueB"
   ]
  },
  {
   "cell_type": "markdown",
   "id": "05c901d5",
   "metadata": {},
   "source": [
    "- For Group C ($4.99 price point), perform a binomial test to see if the observed purchase rate is significantly greater than p_sales_needed_499.\n",
    "\n",
    "Save the results to pvalueC, and print its value"
   ]
  },
  {
   "cell_type": "code",
   "execution_count": 64,
   "id": "9b616530",
   "metadata": {},
   "outputs": [
    {
     "name": "stdout",
     "output_type": "stream",
     "text": [
      "BinomTestResult(k=83, n=1666, alternative='greater', statistic=0.04981992797118848, pvalue=0.029642608610084057)\n"
     ]
    }
   ],
   "source": [
    "pvalueC = binomtest(sales_499,samp_size_499,p_sales_needed_499,'greater')\n",
    "print(pvalueC)"
   ]
  }
 ],
 "metadata": {
  "kernelspec": {
   "display_name": "Python 3 (ipykernel)",
   "language": "python",
   "name": "python3"
  },
  "language_info": {
   "codemirror_mode": {
    "name": "ipython",
    "version": 3
   },
   "file_extension": ".py",
   "mimetype": "text/x-python",
   "name": "python",
   "nbconvert_exporter": "python",
   "pygments_lexer": "ipython3",
   "version": "3.11.3"
  }
 },
 "nbformat": 4,
 "nbformat_minor": 5
}
